{
 "cells": [
  {
   "cell_type": "code",
   "execution_count": 1,
   "metadata": {},
   "outputs": [],
   "source": [
    "import geoip2.webservice"
   ]
  },
  {
   "cell_type": "code",
   "execution_count": 4,
   "metadata": {},
   "outputs": [],
   "source": [
    "import requests\n"
   ]
  },
  {
   "cell_type": "code",
   "execution_count": 6,
   "metadata": {},
   "outputs": [
    {
     "name": "stdout",
     "output_type": "stream",
     "text": [
      "ville :  Istanbul\n",
      "region :  Istanbul\n",
      "pays :  Turkey\n",
      "latitude :  41.01388931274414\n",
      "longitude :  28.96027946472168\n",
      "code postal :  34010\n",
      "continent :  Asia\n",
      "code pays :  TR\n",
      "code continent :  AS\n"
     ]
    }
   ],
   "source": [
    "api_key = \"ab46427b2722a7e7e09d3966f122d562\"\n",
    "ip_add = '176.218.108.213'\n",
    "url = f\"http://api.ipstack.com/{ip_add}?access_key={api_key}\"\n",
    "response = requests.get(url).json()\n",
    "print(\"ville : \", response['city'])\n",
    "print(\"region : \", response['region_name'])\n",
    "print(\"pays : \", response['country_name'])\n",
    "print(\"latitude : \", response['latitude'])\n",
    "print(\"longitude : \", response['longitude'])\n",
    "print(\"code postal : \", response['zip'])\n",
    "print(\"continent : \", response['continent_name'])\n",
    "print(\"code pays : \", response['country_code'])\n",
    "print(\"code continent : \", response['continent_code'])\n"
   ]
  },
  {
   "cell_type": "code",
   "execution_count": null,
   "metadata": {},
   "outputs": [
    {
     "ename": "AuthenticationError",
     "evalue": "Your account ID or license key could not be authenticated.",
     "output_type": "error",
     "traceback": [
      "\u001b[1;31m---------------------------------------------------------------------------\u001b[0m",
      "\u001b[1;31mAuthenticationError\u001b[0m                       Traceback (most recent call last)",
      "Cell \u001b[1;32mIn[2], line 2\u001b[0m\n\u001b[0;32m      1\u001b[0m \u001b[38;5;28;01mwith\u001b[39;00m geoip2\u001b[38;5;241m.\u001b[39mwebservice\u001b[38;5;241m.\u001b[39mClient(\u001b[38;5;241m42\u001b[39m, \u001b[38;5;124m'\u001b[39m\u001b[38;5;124mlicense_key\u001b[39m\u001b[38;5;124m'\u001b[39m) \u001b[38;5;28;01mas\u001b[39;00m client:\n\u001b[1;32m----> 2\u001b[0m     response \u001b[38;5;241m=\u001b[39m client\u001b[38;5;241m.\u001b[39mcity(\u001b[38;5;124m'\u001b[39m\u001b[38;5;124m176.218.108.213\u001b[39m\u001b[38;5;124m'\u001b[39m)\n\u001b[0;32m      3\u001b[0m     \u001b[38;5;28mprint\u001b[39m(response\u001b[38;5;241m.\u001b[39mcountry\u001b[38;5;241m.\u001b[39miso_code)\n\u001b[0;32m      4\u001b[0m     \u001b[38;5;28mprint\u001b[39m(response\u001b[38;5;241m.\u001b[39mcountry\u001b[38;5;241m.\u001b[39mname)\n",
      "File \u001b[1;32mc:\\Anaconda3\\envs\\oopsie\\Lib\\site-packages\\geoip2\\webservice.py:475\u001b[0m, in \u001b[0;36mClient.city\u001b[1;34m(self, ip_address)\u001b[0m\n\u001b[0;32m    465\u001b[0m \u001b[38;5;28;01mdef\u001b[39;00m \u001b[38;5;21mcity\u001b[39m(\u001b[38;5;28mself\u001b[39m, ip_address: IPAddress \u001b[38;5;241m=\u001b[39m \u001b[38;5;124m\"\u001b[39m\u001b[38;5;124mme\u001b[39m\u001b[38;5;124m\"\u001b[39m) \u001b[38;5;241m-\u001b[39m\u001b[38;5;241m>\u001b[39m City:\n\u001b[0;32m    466\u001b[0m \u001b[38;5;250m    \u001b[39m\u001b[38;5;124;03m\"\"\"Call City Plus endpoint with the specified IP.\u001b[39;00m\n\u001b[0;32m    467\u001b[0m \n\u001b[0;32m    468\u001b[0m \u001b[38;5;124;03m    :param ip_address: IPv4 or IPv6 address as a string. If no\u001b[39;00m\n\u001b[1;32m   (...)\u001b[0m\n\u001b[0;32m    473\u001b[0m \n\u001b[0;32m    474\u001b[0m \u001b[38;5;124;03m    \"\"\"\u001b[39;00m\n\u001b[1;32m--> 475\u001b[0m     \u001b[38;5;28;01mreturn\u001b[39;00m cast(City, \u001b[38;5;28mself\u001b[39m\u001b[38;5;241m.\u001b[39m_response_for(\u001b[38;5;124m\"\u001b[39m\u001b[38;5;124mcity\u001b[39m\u001b[38;5;124m\"\u001b[39m, geoip2\u001b[38;5;241m.\u001b[39mmodels\u001b[38;5;241m.\u001b[39mCity, ip_address))\n",
      "File \u001b[1;32mc:\\Anaconda3\\envs\\oopsie\\Lib\\site-packages\\geoip2\\webservice.py:522\u001b[0m, in \u001b[0;36mClient._response_for\u001b[1;34m(self, path, model_class, ip_address)\u001b[0m\n\u001b[0;32m    520\u001b[0m body \u001b[38;5;241m=\u001b[39m response\u001b[38;5;241m.\u001b[39mtext\n\u001b[0;32m    521\u001b[0m \u001b[38;5;28;01mif\u001b[39;00m status \u001b[38;5;241m!=\u001b[39m \u001b[38;5;241m200\u001b[39m:\n\u001b[1;32m--> 522\u001b[0m     \u001b[38;5;28;01mraise\u001b[39;00m \u001b[38;5;28mself\u001b[39m\u001b[38;5;241m.\u001b[39m_exception_for_error(status, content_type, body, uri)\n\u001b[0;32m    523\u001b[0m decoded_body \u001b[38;5;241m=\u001b[39m \u001b[38;5;28mself\u001b[39m\u001b[38;5;241m.\u001b[39m_handle_success(body, uri)\n\u001b[0;32m    524\u001b[0m \u001b[38;5;28;01mreturn\u001b[39;00m model_class(\u001b[38;5;28mself\u001b[39m\u001b[38;5;241m.\u001b[39m_locales, \u001b[38;5;241m*\u001b[39m\u001b[38;5;241m*\u001b[39mdecoded_body)\n",
      "\u001b[1;31mAuthenticationError\u001b[0m: Your account ID or license key could not be authenticated."
     ]
    }
   ],
   "source": [
    "with geoip2.webservice.Client(42, 'license_key') as client:\n",
    "    response = client.city()\n",
    "    print(response.country.iso_code)\n",
    "    print(response.country.name)\n",
    "    print(response.city.name)\n",
    "    print(response.location.latitude)\n",
    "    print(response.location.longitude)\n",
    "    print(response.traits.network)\n",
    "    print(response.traits.autonomous_system_number)\n",
    "    print(response.traits.autonomous_system_organization)\n",
    "    print(response.traits.is_anonymous)\n",
    "    print(response.traits.is_anonymous_vpn)\n",
    "    print(response.traits.is_hosting_provider)\n",
    "    print(response.traits.is_public_proxy)\n",
    "    print(response.traits.is_tor_exit_node)\n",
    "    print(response.traits.is_residential_proxy)\n",
    "    print(response.traits.is_satellite_provider)\n",
    "    print(response.traits.is_anonymous)"
   ]
  },
  {
   "cell_type": "code",
   "execution_count": null,
   "metadata": {},
   "outputs": [],
   "source": []
  },
  {
   "cell_type": "code",
   "execution_count": 25,
   "metadata": {},
   "outputs": [
    {
     "name": "stdout",
     "output_type": "stream",
     "text": [
      "193.169.64.141\n",
      "{'status': 'success', 'country': 'France', 'countryCode': 'FR', 'region': 'NAQ', 'regionName': 'Nouvelle-Aquitaine', 'city': 'Pessac', 'zip': '33600', 'lat': 44.7784, 'lon': -0.665113, 'timezone': 'Europe/Paris', 'isp': 'BDL SYSTEMES SAS', 'org': 'Systonic', 'as': 'AS38926 BDL SYSTEMES SAS', 'query': '193.169.64.141'}\n",
      "Pessac\n",
      "NAQ\n",
      "France\n",
      "44.7784\n",
      "-0.665113\n",
      "33600\n",
      "FR\n",
      "BDL SYSTEMES SAS\n",
      "Systonic\n"
     ]
    }
   ],
   "source": [
    "# recuperer les informations \n",
    "import socket                                                                 \n",
    "                                                                                \n",
    "# obtenir l'adresse à partir d'un nom de domaine (DNS)                                   \n",
    "ip_address = socket.gethostbyname('eleclerc.fr')                    \n",
    "print(ip_address) \n",
    "import requests                               \n",
    "response = requests.get(f'http://ip-api.com/json/{ip_address}')               \n",
    "location_info = response.json()                                               \n",
    "print(location_info) \n",
    "print(location_info['city'])\n",
    "print(location_info['region'])\n",
    "print(location_info['country'])\n",
    "print(location_info['lat'])\n",
    "print(location_info['lon'])\n",
    "print(location_info['zip'])\n",
    "print(location_info['countryCode'])\n",
    "print(location_info['isp'])\n",
    "print(location_info['org'])"
   ]
  },
  {
   "cell_type": "markdown",
   "metadata": {},
   "source": []
  },
  {
   "cell_type": "code",
   "execution_count": 9,
   "metadata": {},
   "outputs": [
    {
     "data": {
      "text/plain": [
       "'Slough'"
      ]
     },
     "execution_count": 9,
     "metadata": {},
     "output_type": "execute_result"
    }
   ],
   "source": [
    "location_info.get('city')"
   ]
  },
  {
   "cell_type": "code",
   "execution_count": null,
   "metadata": {},
   "outputs": [],
   "source": []
  },
  {
   "cell_type": "code",
   "execution_count": null,
   "metadata": {},
   "outputs": [],
   "source": []
  }
 ],
 "metadata": {
  "kernelspec": {
   "display_name": "oopsie",
   "language": "python",
   "name": "python3"
  },
  "language_info": {
   "codemirror_mode": {
    "name": "ipython",
    "version": 3
   },
   "file_extension": ".py",
   "mimetype": "text/x-python",
   "name": "python",
   "nbconvert_exporter": "python",
   "pygments_lexer": "ipython3",
   "version": "3.12.9"
  }
 },
 "nbformat": 4,
 "nbformat_minor": 2
}
